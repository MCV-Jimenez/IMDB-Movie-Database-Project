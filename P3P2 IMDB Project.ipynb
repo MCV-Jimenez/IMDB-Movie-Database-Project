{
 "cells": [
  {
   "cell_type": "markdown",
   "id": "e42f2b92",
   "metadata": {},
   "source": [
    "# IMDB Project 3 Part 2 (CORE)\n",
    "\n",
    "**Marco Jimenez**"
   ]
  },
  {
   "cell_type": "code",
   "execution_count": 2,
   "id": "41eaeb54",
   "metadata": {},
   "outputs": [],
   "source": [
    "# Standard Imports\n",
    "import numpy as np\n",
    "import pandas as pd\n",
    "import matplotlib.pyplot as plt\n",
    "import seaborn as sns\n",
    "# Additional Imports\n",
    "import os, json, math, time\n",
    "from yelpapi import YelpAPI\n",
    "from tqdm.notebook import tqdm_notebook\n",
    "import tmdbsimple as tmdb"
   ]
  },
  {
   "cell_type": "code",
   "execution_count": 3,
   "id": "657ebfc8",
   "metadata": {
    "scrolled": false
   },
   "outputs": [
    {
     "name": "stdout",
     "output_type": "stream",
     "text": [
      "Requirement already satisfied: tmdbsimple in c:\\users\\lp-ca\\anaconda3\\envs\\dojo-env\\lib\\site-packages (2.9.1)\n",
      "Requirement already satisfied: requests in c:\\users\\lp-ca\\anaconda3\\envs\\dojo-env\\lib\\site-packages (from tmdbsimple) (2.27.1)\n",
      "Requirement already satisfied: urllib3<1.27,>=1.21.1 in c:\\users\\lp-ca\\anaconda3\\envs\\dojo-env\\lib\\site-packages (from requests->tmdbsimple) (1.26.8)\n",
      "Requirement already satisfied: certifi>=2017.4.17 in c:\\users\\lp-ca\\anaconda3\\envs\\dojo-env\\lib\\site-packages (from requests->tmdbsimple) (2021.10.8)\n",
      "Requirement already satisfied: idna<4,>=2.5 in c:\\users\\lp-ca\\anaconda3\\envs\\dojo-env\\lib\\site-packages (from requests->tmdbsimple) (3.3)\n",
      "Requirement already satisfied: charset-normalizer~=2.0.0 in c:\\users\\lp-ca\\anaconda3\\envs\\dojo-env\\lib\\site-packages (from requests->tmdbsimple) (2.0.12)\n"
     ]
    }
   ],
   "source": [
    "!pip install tmdbsimple"
   ]
  },
  {
   "cell_type": "code",
   "execution_count": 4,
   "id": "5749d0ec",
   "metadata": {},
   "outputs": [
    {
     "data": {
      "text/plain": [
       "dict_keys(['api-key'])"
      ]
     },
     "execution_count": 4,
     "metadata": {},
     "output_type": "execute_result"
    }
   ],
   "source": [
    "with open('/Users/LP-Ca/.secret/tmdb_api.json', 'r') as f:\n",
    "    login = json.load(f)\n",
    "login.keys()"
   ]
  },
  {
   "cell_type": "code",
   "execution_count": 5,
   "id": "5ea11cd8",
   "metadata": {},
   "outputs": [],
   "source": [
    "# importing package and api-key\n",
    "tmdb.API_KEY = login['api-key']"
   ]
  },
  {
   "cell_type": "code",
   "execution_count": 6,
   "id": "6acbdbf1",
   "metadata": {},
   "outputs": [
    {
     "data": {
      "text/plain": [
       "<tmdbsimple.movies.Movies at 0x2aff11fc188>"
      ]
     },
     "execution_count": 6,
     "metadata": {},
     "output_type": "execute_result"
    }
   ],
   "source": [
    "# Making movie object\n",
    "movie = tmdb.Movies(603)\n",
    "movie"
   ]
  },
  {
   "cell_type": "code",
   "execution_count": 7,
   "id": "ff63c11f",
   "metadata": {},
   "outputs": [
    {
     "data": {
      "text/plain": [
       "{'adult': False,\n",
       " 'backdrop_path': '/ncEsesgOJDNrTUED89hYbA117wo.jpg',\n",
       " 'belongs_to_collection': {'id': 2344,\n",
       "  'name': 'The Matrix Collection',\n",
       "  'poster_path': '/bV9qTVHTVf0gkW0j7p7M0ILD4pG.jpg',\n",
       "  'backdrop_path': '/bRm2DEgUiYciDw3myHuYFInD7la.jpg'},\n",
       " 'budget': 63000000,\n",
       " 'genres': [{'id': 28, 'name': 'Action'},\n",
       "  {'id': 878, 'name': 'Science Fiction'}],\n",
       " 'homepage': 'http://www.warnerbros.com/matrix',\n",
       " 'id': 603,\n",
       " 'imdb_id': 'tt0133093',\n",
       " 'original_language': 'en',\n",
       " 'original_title': 'The Matrix',\n",
       " 'overview': 'Set in the 22nd century, The Matrix tells the story of a computer hacker who joins a group of underground insurgents fighting the vast and powerful computers who now rule the earth.',\n",
       " 'popularity': 70.404,\n",
       " 'poster_path': '/f89U3ADr1oiB1s9GkdPOEpXUk5H.jpg',\n",
       " 'production_companies': [{'id': 79,\n",
       "   'logo_path': '/tpFpsqbleCzEE2p5EgvUq6ozfCA.png',\n",
       "   'name': 'Village Roadshow Pictures',\n",
       "   'origin_country': 'US'},\n",
       "  {'id': 372,\n",
       "   'logo_path': None,\n",
       "   'name': 'Groucho II Film Partnership',\n",
       "   'origin_country': ''},\n",
       "  {'id': 1885,\n",
       "   'logo_path': '/xlvoOZr4s1PygosrwZyolIFe5xs.png',\n",
       "   'name': 'Silver Pictures',\n",
       "   'origin_country': 'US'},\n",
       "  {'id': 174,\n",
       "   'logo_path': '/IuAlhI9eVC9Z8UQWOIDdWRKSEJ.png',\n",
       "   'name': 'Warner Bros. Pictures',\n",
       "   'origin_country': 'US'}],\n",
       " 'production_countries': [{'iso_3166_1': 'US',\n",
       "   'name': 'United States of America'}],\n",
       " 'release_date': '1999-03-30',\n",
       " 'revenue': 463517383,\n",
       " 'runtime': 136,\n",
       " 'spoken_languages': [{'english_name': 'English',\n",
       "   'iso_639_1': 'en',\n",
       "   'name': 'English'}],\n",
       " 'status': 'Released',\n",
       " 'tagline': 'Welcome to the Real World.',\n",
       " 'title': 'The Matrix',\n",
       " 'video': False,\n",
       " 'vote_average': 8.2,\n",
       " 'vote_count': 21630}"
      ]
     },
     "execution_count": 7,
     "metadata": {},
     "output_type": "execute_result"
    }
   ],
   "source": [
    "# Looking at movie object dict\n",
    "info = movie.info()\n",
    "info"
   ]
  },
  {
   "cell_type": "code",
   "execution_count": 8,
   "id": "2f194cc3",
   "metadata": {},
   "outputs": [],
   "source": [
    "def get_movie_with_rating(movie_id):\n",
    "    # Getting movie object for current id\n",
    "    movie = tmdb.Movies(movie_id)\n",
    "    # Saving .info .releases dictionaries\n",
    "    info = movie.info()\n",
    "    releases = movie.releases()\n",
    "    # Looping through the countries in releases\n",
    "    for c in releases['countries']:\n",
    "        # If the country abbreviation == US\n",
    "        if c['iso_3166_1'] == 'US':\n",
    "            # Saving a certification key in the info dictionaries with the certification\n",
    "            info['certification'] = c['certification']\n",
    "    return info"
   ]
  },
  {
   "cell_type": "code",
   "execution_count": 9,
   "id": "9f0a1bd3",
   "metadata": {},
   "outputs": [
    {
     "data": {
      "text/plain": [
       "{'adult': False,\n",
       " 'backdrop_path': '/hAlB9MaamrP1eDhGA4AkjSAPxAf.jpg',\n",
       " 'belongs_to_collection': None,\n",
       " 'budget': 0,\n",
       " 'genres': [{'id': 99, 'name': 'Documentary'}],\n",
       " 'homepage': '',\n",
       " 'id': 501,\n",
       " 'imdb_id': 'tt0427312',\n",
       " 'original_language': 'en',\n",
       " 'original_title': 'Grizzly Man',\n",
       " 'overview': 'Werner Herzog\\'s documentary film about the \"Grizzly Man\" Timothy Treadwell and what the thirteen summers in a National Park in Alaska were like in one man\\'s attempt to protect the grizzly bears. The film is full of unique images and a look into the spirit of a man who sacrificed himself for nature.',\n",
       " 'popularity': 8.886,\n",
       " 'poster_path': '/nXIV2qGK9KkdkaOTzrpK87CuAGC.jpg',\n",
       " 'production_companies': [{'id': 274,\n",
       "   'logo_path': None,\n",
       "   'name': 'Discovery Docs',\n",
       "   'origin_country': ''}],\n",
       " 'production_countries': [{'iso_3166_1': 'US',\n",
       "   'name': 'United States of America'}],\n",
       " 'release_date': '2005-08-12',\n",
       " 'revenue': 0,\n",
       " 'runtime': 103,\n",
       " 'spoken_languages': [{'english_name': 'English',\n",
       "   'iso_639_1': 'en',\n",
       "   'name': 'English'}],\n",
       " 'status': 'Released',\n",
       " 'tagline': 'In nature, there are boundaries. One man spent the last 13 years of his life crossing them.',\n",
       " 'title': 'Grizzly Man',\n",
       " 'video': False,\n",
       " 'vote_average': 7.5,\n",
       " 'vote_count': 633,\n",
       " 'certification': 'R'}"
      ]
     },
     "execution_count": 9,
     "metadata": {},
     "output_type": "execute_result"
    }
   ],
   "source": [
    "# Testing function\n",
    "get_movie_with_rating(501)"
   ]
  },
  {
   "cell_type": "code",
   "execution_count": 10,
   "id": "ef0026e0",
   "metadata": {},
   "outputs": [
    {
     "data": {
      "text/plain": [
       "['.ipynb_checkpoints',\n",
       " 'title_akas.csv.gz',\n",
       " 'title_basics.csv.gz',\n",
       " 'title_ratings.csv.gz',\n",
       " 'tmdb_api_results_2000.json']"
      ]
     },
     "execution_count": 10,
     "metadata": {},
     "output_type": "execute_result"
    }
   ],
   "source": [
    "# Designating folder to save info\n",
    "FOLDER = \"Data/\"\n",
    "os.makedirs(FOLDER, exist_ok=True)\n",
    "os.listdir(FOLDER)"
   ]
  },
  {
   "cell_type": "code",
   "execution_count": 11,
   "id": "98835f7d",
   "metadata": {},
   "outputs": [
    {
     "data": {
      "text/html": [
       "<div>\n",
       "<style scoped>\n",
       "    .dataframe tbody tr th:only-of-type {\n",
       "        vertical-align: middle;\n",
       "    }\n",
       "\n",
       "    .dataframe tbody tr th {\n",
       "        vertical-align: top;\n",
       "    }\n",
       "\n",
       "    .dataframe thead th {\n",
       "        text-align: right;\n",
       "    }\n",
       "</style>\n",
       "<table border=\"1\" class=\"dataframe\">\n",
       "  <thead>\n",
       "    <tr style=\"text-align: right;\">\n",
       "      <th></th>\n",
       "      <th>tconst</th>\n",
       "      <th>titleType</th>\n",
       "      <th>primaryTitle</th>\n",
       "      <th>originalTitle</th>\n",
       "      <th>isAdult</th>\n",
       "      <th>startYear</th>\n",
       "      <th>endYear</th>\n",
       "      <th>runtimeMinutes</th>\n",
       "      <th>genres</th>\n",
       "    </tr>\n",
       "  </thead>\n",
       "  <tbody>\n",
       "    <tr>\n",
       "      <th>0</th>\n",
       "      <td>tt0035423</td>\n",
       "      <td>movie</td>\n",
       "      <td>Kate &amp; Leopold</td>\n",
       "      <td>Kate &amp; Leopold</td>\n",
       "      <td>0</td>\n",
       "      <td>2001</td>\n",
       "      <td>NaN</td>\n",
       "      <td>118</td>\n",
       "      <td>Comedy,Fantasy,Romance</td>\n",
       "    </tr>\n",
       "    <tr>\n",
       "      <th>1</th>\n",
       "      <td>tt0062336</td>\n",
       "      <td>movie</td>\n",
       "      <td>The Tango of the Widower and Its Distorting Mi...</td>\n",
       "      <td>El Tango del Viudo y Su Espejo Deformante</td>\n",
       "      <td>0</td>\n",
       "      <td>2020</td>\n",
       "      <td>NaN</td>\n",
       "      <td>70</td>\n",
       "      <td>Drama</td>\n",
       "    </tr>\n",
       "    <tr>\n",
       "      <th>2</th>\n",
       "      <td>tt0069049</td>\n",
       "      <td>movie</td>\n",
       "      <td>The Other Side of the Wind</td>\n",
       "      <td>The Other Side of the Wind</td>\n",
       "      <td>0</td>\n",
       "      <td>2018</td>\n",
       "      <td>NaN</td>\n",
       "      <td>122</td>\n",
       "      <td>Drama</td>\n",
       "    </tr>\n",
       "    <tr>\n",
       "      <th>3</th>\n",
       "      <td>tt0088751</td>\n",
       "      <td>movie</td>\n",
       "      <td>The Naked Monster</td>\n",
       "      <td>The Naked Monster</td>\n",
       "      <td>0</td>\n",
       "      <td>2005</td>\n",
       "      <td>NaN</td>\n",
       "      <td>100</td>\n",
       "      <td>Comedy,Horror,Sci-Fi</td>\n",
       "    </tr>\n",
       "    <tr>\n",
       "      <th>4</th>\n",
       "      <td>tt0093119</td>\n",
       "      <td>movie</td>\n",
       "      <td>Grizzly II: Revenge</td>\n",
       "      <td>Grizzly II: The Predator</td>\n",
       "      <td>0</td>\n",
       "      <td>2020</td>\n",
       "      <td>NaN</td>\n",
       "      <td>74</td>\n",
       "      <td>Horror,Music,Thriller</td>\n",
       "    </tr>\n",
       "  </tbody>\n",
       "</table>\n",
       "</div>"
      ],
      "text/plain": [
       "      tconst titleType                                       primaryTitle  \\\n",
       "0  tt0035423     movie                                     Kate & Leopold   \n",
       "1  tt0062336     movie  The Tango of the Widower and Its Distorting Mi...   \n",
       "2  tt0069049     movie                         The Other Side of the Wind   \n",
       "3  tt0088751     movie                                  The Naked Monster   \n",
       "4  tt0093119     movie                                Grizzly II: Revenge   \n",
       "\n",
       "                               originalTitle  isAdult  startYear  endYear  \\\n",
       "0                             Kate & Leopold        0       2001      NaN   \n",
       "1  El Tango del Viudo y Su Espejo Deformante        0       2020      NaN   \n",
       "2                 The Other Side of the Wind        0       2018      NaN   \n",
       "3                          The Naked Monster        0       2005      NaN   \n",
       "4                   Grizzly II: The Predator        0       2020      NaN   \n",
       "\n",
       "   runtimeMinutes                  genres  \n",
       "0             118  Comedy,Fantasy,Romance  \n",
       "1              70                   Drama  \n",
       "2             122                   Drama  \n",
       "3             100    Comedy,Horror,Sci-Fi  \n",
       "4              74   Horror,Music,Thriller  "
      ]
     },
     "execution_count": 11,
     "metadata": {},
     "output_type": "execute_result"
    }
   ],
   "source": [
    "# Reading in filtered basics csv\n",
    "basics = pd.read_csv('/Users/LP-Ca/Documents/DataEnrichment/IMDB-Movie-Database-Project/Data/title_basics.csv.gz')\n",
    "basics.head()  "
   ]
  },
  {
   "cell_type": "code",
   "execution_count": 12,
   "id": "62860df0",
   "metadata": {},
   "outputs": [],
   "source": [
    "# Defining range of years to retrieve\n",
    "yrs_to_get = [2000,2001]"
   ]
  },
  {
   "cell_type": "code",
   "execution_count": 13,
   "id": "5d932f57",
   "metadata": {},
   "outputs": [
    {
     "data": {
      "text/plain": [
       "2000"
      ]
     },
     "execution_count": 13,
     "metadata": {},
     "output_type": "execute_result"
    }
   ],
   "source": [
    "YEAR = yrs_to_get[0]\n",
    "YEAR"
   ]
  },
  {
   "cell_type": "code",
   "execution_count": 14,
   "id": "9a22611b",
   "metadata": {},
   "outputs": [
    {
     "data": {
      "application/vnd.jupyter.widget-view+json": {
       "model_id": "cec48a6caeee4e0a8ad0f1ee2c4c85e6",
       "version_major": 2,
       "version_minor": 0
      },
      "text/plain": [
       "YEARS:   0%|          | 0/2 [00:00<?, ?it/s]"
      ]
     },
     "metadata": {},
     "output_type": "display_data"
    },
    {
     "data": {
      "application/vnd.jupyter.widget-view+json": {
       "model_id": "38de2869af604b2b800a54076a60f9d1",
       "version_major": 2,
       "version_minor": 0
      },
      "text/plain": [
       "Movies from 2000:   0%|          | 0/208 [00:00<?, ?it/s]"
      ]
     },
     "metadata": {},
     "output_type": "display_data"
    },
    {
     "data": {
      "application/vnd.jupyter.widget-view+json": {
       "model_id": "c5eda55726d743659f956f00cf75af61",
       "version_major": 2,
       "version_minor": 0
      },
      "text/plain": [
       "Movies from 2001:   0%|          | 0/1521 [00:00<?, ?it/s]"
      ]
     },
     "metadata": {},
     "output_type": "display_data"
    }
   ],
   "source": [
    "# Beginning outer loop\n",
    "for YEAR in tqdm_notebook(yrs_to_get, desc='YEARS',position=0):\n",
    "    # Dsignating JSON file to store results\n",
    "    JSON_FILE = f'{FOLDER}tmdb_api_results_{YEAR}.json'\n",
    "    # Checking if file exists\n",
    "    file_exists = os.path.isfile(JSON_FILE)\n",
    "\n",
    "    # Creating file in case it doesn't exist\n",
    "    if file_exists == False:\n",
    "        # Saving empty dict w/ imdb_id to new json file\n",
    "        with open(JSON_FILE, 'w') as f:\n",
    "             json.dump([{'imdb_id':0}],f)\n",
    "\n",
    "    # Saving new year as the current df\n",
    "    df = basics.loc[basics['startYear']==YEAR].copy()\n",
    "    # Saving movie id's to list\n",
    "    movie_ids = df['tconst'].copy()\n",
    "\n",
    "    # Loading existing data from json into a dataframe\n",
    "    prev_df = pd.read_json(JSON_FILE)\n",
    "    prev_df\n",
    "\n",
    "    # Filtering out id's that are already in JSON_FILE\n",
    "    get_movieid = movie_ids[~movie_ids.isin(prev_df['imdb_id'])]\n",
    "\n",
    "    # Defining function to be used in the loop\n",
    "    def write_json(new_data, filename):\n",
    "        with open(filename, 'r+') as file:\n",
    "            # Loading existing data into a dict\n",
    "            file_data = json.load(file)\n",
    "            # Append or extend\n",
    "            if (type(new_data) == list) & (type(file_data) == list):\n",
    "                file_data.extend(new_data)\n",
    "            else:\n",
    "                file_data.append(new_data)\n",
    "            # Setting files current position at offset\n",
    "            file.seek(0)\n",
    "            # Converting back to .json\n",
    "            json.dump(file_data, file)\n",
    "\n",
    "    #Getting index and movie id from list\n",
    "    for movie_id in tqdm_notebook(get_movieid,\n",
    "                                  desc=f'Movies from {YEAR}',\n",
    "                                  position=1,\n",
    "                                  leave=True):\n",
    "        # Attempting to retrieve data for movie_id\n",
    "        try:\n",
    "            # Using premade movie_id function\n",
    "            temp = get_movie_with_rating(movie_id) \n",
    "            # Applying premade write_json function to appen/extend\n",
    "            write_json(temp,JSON_FILE)\n",
    "            # Applying a short 20ms sleep to prevent overwhelming server\n",
    "            time.sleep(0.02)\n",
    "\n",
    "        # If it fails, make a dict with just the id and None for certification.\n",
    "        except Exception as e:\n",
    "            continue\n",
    "\n",
    "    final_year_df = pd.read_json(JSON_FILE)\n",
    "    final_year_df.to_csv(f\"{FOLDER}final_tmdb_data_{YEAR}.csv.gz\", compression=\"gzip\", index=False)"
   ]
  }
 ],
 "metadata": {
  "kernelspec": {
   "display_name": "Python (dojo-env)",
   "language": "python",
   "name": "dojo-env"
  },
  "language_info": {
   "codemirror_mode": {
    "name": "ipython",
    "version": 3
   },
   "file_extension": ".py",
   "mimetype": "text/x-python",
   "name": "python",
   "nbconvert_exporter": "python",
   "pygments_lexer": "ipython3",
   "version": "3.7.12"
  },
  "toc": {
   "base_numbering": 1,
   "nav_menu": {},
   "number_sections": true,
   "sideBar": true,
   "skip_h1_title": false,
   "title_cell": "Table of Contents",
   "title_sidebar": "Contents",
   "toc_cell": false,
   "toc_position": {},
   "toc_section_display": true,
   "toc_window_display": false
  }
 },
 "nbformat": 4,
 "nbformat_minor": 5
}
